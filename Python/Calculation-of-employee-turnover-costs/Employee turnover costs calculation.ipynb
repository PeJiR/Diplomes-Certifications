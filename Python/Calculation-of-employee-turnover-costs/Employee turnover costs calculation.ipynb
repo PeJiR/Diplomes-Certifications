{
 "cells": [
  {
   "cell_type": "markdown",
   "id": "3ac32b91",
   "metadata": {
    "papermill": {
     "duration": 0.013021,
     "end_time": "2023-10-05T21:57:09.004411",
     "exception": false,
     "start_time": "2023-10-05T21:57:08.991390",
     "status": "completed"
    },
    "tags": []
   },
   "source": [
    "# Calculation-of-employee-turnover-costs\n",
    " "
   ]
  },
  {
   "cell_type": "markdown",
   "id": "81a2a926",
   "metadata": {
    "id": "bOpscQ6drkRi",
    "papermill": {
     "duration": 0.012183,
     "end_time": "2023-10-05T21:57:09.029202",
     "exception": false,
     "start_time": "2023-10-05T21:57:09.017019",
     "status": "completed"
    },
    "tags": []
   },
   "source": [
    "## Project kickoff"
   ]
  },
  {
   "cell_type": "markdown",
   "id": "4b1d63d7",
   "metadata": {
    "id": "MKUOBPsiKK1w",
    "papermill": {
     "duration": 0.012784,
     "end_time": "2023-10-05T21:57:09.054531",
     "exception": false,
     "start_time": "2023-10-05T21:57:09.041747",
     "status": "completed"
    },
    "tags": []
   },
   "source": [
    "### Importing libraries"
   ]
  },
  {
   "cell_type": "code",
   "execution_count": 1,
   "id": "d953ecaa",
   "metadata": {
    "execution": {
     "iopub.execute_input": "2023-10-05T21:57:09.082562Z",
     "iopub.status.busy": "2023-10-05T21:57:09.082004Z",
     "iopub.status.idle": "2023-10-05T21:57:11.199440Z",
     "shell.execute_reply": "2023-10-05T21:57:11.198352Z"
    },
    "id": "mU92c65BKN-D",
    "papermill": {
     "duration": 2.134517,
     "end_time": "2023-10-05T21:57:11.201842",
     "exception": false,
     "start_time": "2023-10-05T21:57:09.067325",
     "status": "completed"
    },
    "tags": []
   },
   "outputs": [
    {
     "ename": "ModuleNotFoundError",
     "evalue": "No module named 'pandas'",
     "output_type": "error",
     "traceback": [
      "\u001b[0;31m---------------------------------------------------------------------------\u001b[0m",
      "\u001b[0;31mModuleNotFoundError\u001b[0m                       Traceback (most recent call last)",
      "Cell \u001b[0;32mIn [1], line 2\u001b[0m\n\u001b[1;32m      1\u001b[0m \u001b[38;5;28;01mimport\u001b[39;00m \u001b[38;5;21;01mnumpy\u001b[39;00m \u001b[38;5;28;01mas\u001b[39;00m \u001b[38;5;21;01mnp\u001b[39;00m\n\u001b[0;32m----> 2\u001b[0m \u001b[38;5;28;01mimport\u001b[39;00m \u001b[38;5;21;01mpandas\u001b[39;00m \u001b[38;5;28;01mas\u001b[39;00m \u001b[38;5;21;01mpd\u001b[39;00m\n\u001b[1;32m      3\u001b[0m \u001b[38;5;28;01mimport\u001b[39;00m \u001b[38;5;21;01mmatplotlib\u001b[39;00m\u001b[38;5;21;01m.\u001b[39;00m\u001b[38;5;21;01mpyplot\u001b[39;00m \u001b[38;5;28;01mas\u001b[39;00m \u001b[38;5;21;01mplt\u001b[39;00m\n\u001b[1;32m      4\u001b[0m \u001b[38;5;28;01mimport\u001b[39;00m \u001b[38;5;21;01msklearn\u001b[39;00m \u001b[38;5;28;01mas\u001b[39;00m \u001b[38;5;21;01mskl\u001b[39;00m\n",
      "\u001b[0;31mModuleNotFoundError\u001b[0m: No module named 'pandas'"
     ]
    }
   ],
   "source": [
    "import numpy as np\n",
    "import pandas as pd\n",
    "import matplotlib.pyplot as plt\n",
    "import sklearn as skl\n",
    "%matplotlib inline"
   ]
  },
  {
   "cell_type": "markdown",
   "id": "b8c2ef39",
   "metadata": {
    "id": "ANoZnP39rr1r",
    "papermill": {
     "duration": 0.012396,
     "end_time": "2023-10-05T21:57:11.227849",
     "exception": false,
     "start_time": "2023-10-05T21:57:11.215453",
     "status": "completed"
    },
    "tags": []
   },
   "source": [
    "### DATA UPLOAD"
   ]
  },
  {
   "cell_type": "markdown",
   "id": "00ff1e89",
   "metadata": {
    "id": "ejI_fsyyr_Nb",
    "papermill": {
     "duration": 0.012162,
     "end_time": "2023-10-05T21:57:11.252549",
     "exception": false,
     "start_time": "2023-10-05T21:57:11.240387",
     "status": "completed"
    },
    "tags": []
   },
   "source": [
    "Before continuing you must:\n",
    "\n",
    "* Have downloaded the data from the platform\n",
    "\n",
    "* Have unzipped them in a folder on your hard drive\n",
    "\n",
    "* Have uploaded them to Colab using the file explorer (folder icon - upload file icon)"
   ]
  },
  {
   "cell_type": "code",
   "execution_count": 2,
   "id": "f45e3d71",
   "metadata": {
    "execution": {
     "iopub.execute_input": "2023-10-05T21:57:11.280649Z",
     "iopub.status.busy": "2023-10-05T21:57:11.279304Z",
     "iopub.status.idle": "2023-10-05T21:57:11.385824Z",
     "shell.execute_reply": "2023-10-05T21:57:11.385058Z"
    },
    "papermill": {
     "duration": 0.122201,
     "end_time": "2023-10-05T21:57:11.387630",
     "exception": false,
     "start_time": "2023-10-05T21:57:11.265429",
     "status": "completed"
    },
    "tags": []
   },
   "outputs": [
    {
     "ename": "NameError",
     "evalue": "name 'pd' is not defined",
     "output_type": "error",
     "traceback": [
      "\u001b[0;31m---------------------------------------------------------------------------\u001b[0m",
      "\u001b[0;31mNameError\u001b[0m                                 Traceback (most recent call last)",
      "Cell \u001b[0;32mIn [2], line 1\u001b[0m\n\u001b[0;32m----> 1\u001b[0m df \u001b[38;5;241m=\u001b[39m \u001b[43mpd\u001b[49m\u001b[38;5;241m.\u001b[39mread_csv(\u001b[38;5;124m\"\u001b[39m\u001b[38;5;124m/kaggle/input/employees-turnover-costs-calculations/Employee turnover costs calculations.csv\u001b[39m\u001b[38;5;124m\"\u001b[39m, sep\u001b[38;5;241m=\u001b[39m\u001b[38;5;124m\"\u001b[39m\u001b[38;5;124m,\u001b[39m\u001b[38;5;124m\"\u001b[39m, index_col\u001b[38;5;241m=\u001b[39m\u001b[38;5;124m\"\u001b[39m\u001b[38;5;124mid\u001b[39m\u001b[38;5;124m\"\u001b[39m, na_values\u001b[38;5;241m=\u001b[39m\u001b[38;5;124m\"\u001b[39m\u001b[38;5;124m#N/D\u001b[39m\u001b[38;5;124m\"\u001b[39m)\n\u001b[1;32m      2\u001b[0m df\n",
      "\u001b[0;31mNameError\u001b[0m: name 'pd' is not defined"
     ]
    }
   ],
   "source": [
    "df = pd.read_csv(\"/kaggle/input/employees-turnover-costs-calculations/Employee turnover costs calculations.csv\", sep=\",\", index_col=\"id\", na_values=\"#N/D\")\n",
    "df"
   ]
  },
  {
   "cell_type": "markdown",
   "id": "8b9b0d57",
   "metadata": {
    "papermill": {
     "duration": 0.013437,
     "end_time": "2023-10-05T21:57:11.414201",
     "exception": false,
     "start_time": "2023-10-05T21:57:11.400764",
     "status": "completed"
    },
    "tags": []
   },
   "source": [
    "## BUSINESS ANALYTICS"
   ]
  },
  {
   "cell_type": "code",
   "execution_count": null,
   "id": "6d9ca610",
   "metadata": {
    "execution": {
     "iopub.execute_input": "2023-10-05T21:57:11.503735Z",
     "iopub.status.busy": "2023-10-05T21:57:11.503063Z",
     "iopub.status.idle": "2023-10-05T21:57:11.524616Z",
     "shell.execute_reply": "2023-10-05T21:57:11.523335Z"
    },
    "papermill": {
     "duration": 0.099808,
     "end_time": "2023-10-05T21:57:11.527157",
     "exception": false,
     "start_time": "2023-10-05T21:57:11.427349",
     "status": "completed"
    },
    "tags": []
   },
   "outputs": [
    {
     "ename": "NameError",
     "evalue": "name 'df' is not defined",
     "output_type": "error",
     "traceback": [
      "\u001b[0;31m---------------------------------------------------------------------------\u001b[0m",
      "\u001b[0;31mNameError\u001b[0m                                 Traceback (most recent call last)",
      "Cell \u001b[0;32mIn [5], line 1\u001b[0m\n\u001b[0;32m----> 1\u001b[0m \u001b[43mdf\u001b[49m\u001b[38;5;241m.\u001b[39minfo()\n",
      "\u001b[0;31mNameError\u001b[0m: name 'df' is not defined"
     ]
    }
   ],
   "source": [
    "df.info()"
   ]
  },
  {
   "cell_type": "code",
   "execution_count": null,
   "id": "3085421f",
   "metadata": {
    "execution": {
     "iopub.execute_input": "2023-10-05T21:57:11.563505Z",
     "iopub.status.busy": "2023-10-05T21:57:11.562531Z",
     "iopub.status.idle": "2023-10-05T21:57:11.576394Z",
     "shell.execute_reply": "2023-10-05T21:57:11.575413Z"
    },
    "papermill": {
     "duration": 0.034814,
     "end_time": "2023-10-05T21:57:11.578418",
     "exception": false,
     "start_time": "2023-10-05T21:57:11.543604",
     "status": "completed"
    },
    "tags": []
   },
   "outputs": [],
   "source": [
    "df.isna().sum().sort_values(ascending = False)"
   ]
  },
  {
   "cell_type": "markdown",
   "id": "b29fb9f4",
   "metadata": {
    "papermill": {
     "duration": 0.017893,
     "end_time": "2023-10-05T21:57:11.623006",
     "exception": false,
     "start_time": "2023-10-05T21:57:11.605113",
     "status": "completed"
    },
    "tags": []
   },
   "source": [
    "### Conclusions\n",
    "* Years in position and reconciliation have too many nulls --> eliminate variables\n",
    "* Sex, education, job_satisfaction and involvement --> impute them after EDA"
   ]
  },
  {
   "cell_type": "code",
   "execution_count": null,
   "id": "0c6c3dfb",
   "metadata": {
    "execution": {
     "iopub.execute_input": "2023-10-05T21:57:11.673348Z",
     "iopub.status.busy": "2023-10-05T21:57:11.672702Z",
     "iopub.status.idle": "2023-10-05T21:57:11.678624Z",
     "shell.execute_reply": "2023-10-05T21:57:11.677750Z"
    },
    "papermill": {
     "duration": 0.033961,
     "end_time": "2023-10-05T21:57:11.680683",
     "exception": false,
     "start_time": "2023-10-05T21:57:11.646722",
     "status": "completed"
    },
    "tags": []
   },
   "outputs": [],
   "source": [
    "df.drop(columns= ['years_in_position','conciliation'], inplace= True)\n"
   ]
  },
  {
   "cell_type": "code",
   "execution_count": null,
   "id": "73b24eae",
   "metadata": {
    "execution": {
     "iopub.execute_input": "2023-10-05T21:57:11.718329Z",
     "iopub.status.busy": "2023-10-05T21:57:11.717938Z",
     "iopub.status.idle": "2023-10-05T21:57:11.752269Z",
     "shell.execute_reply": "2023-10-05T21:57:11.751066Z"
    },
    "papermill": {
     "duration": 0.052811,
     "end_time": "2023-10-05T21:57:11.754500",
     "exception": false,
     "start_time": "2023-10-05T21:57:11.701689",
     "status": "completed"
    },
    "tags": []
   },
   "outputs": [],
   "source": [
    "df  "
   ]
  },
  {
   "cell_type": "markdown",
   "id": "cb34352d",
   "metadata": {
    "papermill": {
     "duration": 0.014359,
     "end_time": "2023-10-05T21:57:11.783951",
     "exception": false,
     "start_time": "2023-10-05T21:57:11.769592",
     "status": "completed"
    },
    "tags": []
   },
   "source": [
    "### EDA Categorical Variables"
   ]
  },
  {
   "cell_type": "code",
   "execution_count": null,
   "id": "4c5aca4f",
   "metadata": {
    "execution": {
     "iopub.execute_input": "2023-10-05T21:57:11.817411Z",
     "iopub.status.busy": "2023-10-05T21:57:11.816114Z",
     "iopub.status.idle": "2023-10-05T21:57:11.825947Z",
     "shell.execute_reply": "2023-10-05T21:57:11.824321Z"
    },
    "papermill": {
     "duration": 0.031716,
     "end_time": "2023-10-05T21:57:11.830597",
     "exception": false,
     "start_time": "2023-10-05T21:57:11.798881",
     "status": "completed"
    },
    "tags": []
   },
   "outputs": [],
   "source": [
    "def graficos_eda_categoricos(cat):\n",
    "    #Calculamos el numero de filas que necesitamos\n",
    "    from math import ceil\n",
    "    filas = ceil(cat.shape[1]/2)\n",
    "    \n",
    "    #Definimos el grafico\n",
    "    f,ax = plt.subplots(nrows = filas, ncols = 2, figsize = (16,filas * 6))\n",
    "    \n",
    "    #Aplanamos para iterar por el grafico como si fuera de 1 dimenson en lugar de 2\n",
    "    ax = ax.flat\n",
    "    \n",
    "    #Creamos el bucle que va anadiendo graficos\n",
    "    for cada, variable in enumerate(cat):\n",
    "        cat [variable].value_counts().plot.barh(ax = ax[cada])\n",
    "        ax[cada].set_title(variable, fontsize = 12,fontweight = \"bold\")\n",
    "        ax[cada].tick_params(labelsize = 12)\n",
    "        \n",
    "    \n",
    "    "
   ]
  },
  {
   "cell_type": "code",
   "execution_count": null,
   "id": "0ecddc25",
   "metadata": {
    "execution": {
     "iopub.execute_input": "2023-10-05T21:57:11.872926Z",
     "iopub.status.busy": "2023-10-05T21:57:11.871815Z",
     "iopub.status.idle": "2023-10-05T21:57:14.541119Z",
     "shell.execute_reply": "2023-10-05T21:57:14.540288Z"
    },
    "papermill": {
     "duration": 2.69002,
     "end_time": "2023-10-05T21:57:14.545703",
     "exception": false,
     "start_time": "2023-10-05T21:57:11.855683",
     "status": "completed"
    },
    "tags": []
   },
   "outputs": [],
   "source": [
    "graficos_eda_categoricos(df.select_dtypes('O'))"
   ]
  },
  {
   "cell_type": "markdown",
   "id": "8fa6fea3",
   "metadata": {
    "papermill": {
     "duration": 0.017118,
     "end_time": "2023-10-05T21:57:14.580530",
     "exception": false,
     "start_time": "2023-10-05T21:57:14.563412",
     "status": "completed"
    },
    "tags": []
   },
   "source": [
    "### Cloncusiones\n",
    "* mayor edad solo tiene un valor --> elimarla\n",
    "* sobre las imputaciones pendientes de variable categoricas:\n",
    "    * educacion: imputar por \"Universitaria\"\n",
    "    * satisfacion trabajo: imputar por \"Alta\"\n",
    "    * implicacion: imputar por \"ALta\""
   ]
  },
  {
   "cell_type": "code",
   "execution_count": null,
   "id": "995312f3",
   "metadata": {
    "execution": {
     "iopub.execute_input": "2023-10-05T21:57:14.617639Z",
     "iopub.status.busy": "2023-10-05T21:57:14.616857Z",
     "iopub.status.idle": "2023-10-05T21:57:16.265970Z",
     "shell.execute_reply": "2023-10-05T21:57:16.264263Z"
    },
    "papermill": {
     "duration": 1.669626,
     "end_time": "2023-10-05T21:57:16.267652",
     "exception": true,
     "start_time": "2023-10-05T21:57:14.598026",
     "status": "failed"
    },
    "tags": []
   },
   "outputs": [],
   "source": [
    "df.drop(columns = 'mayor_edad', inplace = True)\n",
    "df['educacion'] = df['educacion'].fillna('Universitaria')\n",
    "df['satisfaccion_trabajo'] = df['satisfaccion_trabajo'].fillna('Alta')\n",
    "df['implicacion'] = df['implicacion'].fillna('Alta')"
   ]
  },
  {
   "cell_type": "code",
   "execution_count": null,
   "id": "c54e3dd8",
   "metadata": {
    "execution": {
     "iopub.status.busy": "2023-10-05T21:45:43.536301Z",
     "iopub.status.idle": "2023-10-05T21:45:43.536639Z",
     "shell.execute_reply": "2023-10-05T21:45:43.536493Z",
     "shell.execute_reply.started": "2023-10-05T21:45:43.536478Z"
    },
    "papermill": {
     "duration": null,
     "end_time": null,
     "exception": null,
     "start_time": null,
     "status": "pending"
    },
    "tags": []
   },
   "outputs": [],
   "source": [
    "df.info()"
   ]
  },
  {
   "cell_type": "markdown",
   "id": "4c2c46dc",
   "metadata": {
    "papermill": {
     "duration": null,
     "end_time": null,
     "exception": null,
     "start_time": null,
     "status": "pending"
    },
    "tags": []
   },
   "source": [
    "### EDA VARIABLES NUMERICAS\n"
   ]
  },
  {
   "cell_type": "code",
   "execution_count": null,
   "id": "c7955867",
   "metadata": {
    "execution": {
     "iopub.status.busy": "2023-10-05T21:45:43.539512Z",
     "iopub.status.idle": "2023-10-05T21:45:43.540147Z",
     "shell.execute_reply": "2023-10-05T21:45:43.539885Z",
     "shell.execute_reply.started": "2023-10-05T21:45:43.539857Z"
    },
    "papermill": {
     "duration": null,
     "end_time": null,
     "exception": null,
     "start_time": null,
     "status": "pending"
    },
    "tags": []
   },
   "outputs": [],
   "source": [
    "def estadisticos_cont(num):\n",
    "    #calculamos describe\n",
    "    estadisticos = num.describe().T\n",
    "    #anadimos la mediana\n",
    "    estadisticos['median'] = num.median()\n",
    "    #reordenamos pra que la mediana este al lado de la media\n",
    "    estadisticos= estadisticos.iloc[:,[0,1,8,2,3,4,5,6,7]]\n",
    "    #lo devolvemos\n",
    "    return(estadisticos)"
   ]
  },
  {
   "cell_type": "code",
   "execution_count": null,
   "id": "a145b65c",
   "metadata": {
    "execution": {
     "iopub.status.busy": "2023-10-05T21:45:43.541474Z",
     "iopub.status.idle": "2023-10-05T21:45:43.542030Z",
     "shell.execute_reply": "2023-10-05T21:45:43.541774Z",
     "shell.execute_reply.started": "2023-10-05T21:45:43.541750Z"
    },
    "papermill": {
     "duration": null,
     "end_time": null,
     "exception": null,
     "start_time": null,
     "status": "pending"
    },
    "tags": []
   },
   "outputs": [],
   "source": [
    "estadisticos_cont(df.select_dtypes('number'))"
   ]
  },
  {
   "cell_type": "markdown",
   "id": "94f68a06",
   "metadata": {
    "papermill": {
     "duration": null,
     "end_time": null,
     "exception": null,
     "start_time": null,
     "status": "pending"
    },
    "tags": []
   },
   "source": [
    "### Conclusiones\n",
    "* Empleados solo tiene un valor --> elimarlo\n",
    "* sexo tiene 3 valores --> eliminarlo\n",
    "* horas quincena solo tiene un valor --> eliminarlo"
   ]
  },
  {
   "cell_type": "code",
   "execution_count": null,
   "id": "5cce5bb3",
   "metadata": {
    "execution": {
     "iopub.status.busy": "2023-10-05T21:45:43.545577Z",
     "iopub.status.idle": "2023-10-05T21:45:43.547041Z",
     "shell.execute_reply": "2023-10-05T21:45:43.546782Z",
     "shell.execute_reply.started": "2023-10-05T21:45:43.546746Z"
    },
    "papermill": {
     "duration": null,
     "end_time": null,
     "exception": null,
     "start_time": null,
     "status": "pending"
    },
    "tags": []
   },
   "outputs": [],
   "source": [
    "df.drop(columns=['empleados','sexo','horas_quincena'], inplace= True)\n"
   ]
  },
  {
   "cell_type": "code",
   "execution_count": null,
   "id": "e541eb18",
   "metadata": {
    "execution": {
     "iopub.status.busy": "2023-10-05T21:45:43.548453Z",
     "iopub.status.idle": "2023-10-05T21:45:43.548831Z",
     "shell.execute_reply": "2023-10-05T21:45:43.548677Z",
     "shell.execute_reply.started": "2023-10-05T21:45:43.548661Z"
    },
    "papermill": {
     "duration": null,
     "end_time": null,
     "exception": null,
     "start_time": null,
     "status": "pending"
    },
    "scrolled": true,
    "tags": []
   },
   "outputs": [],
   "source": [
    "df"
   ]
  },
  {
   "cell_type": "markdown",
   "id": "0b4bacef",
   "metadata": {
    "papermill": {
     "duration": null,
     "end_time": null,
     "exception": null,
     "start_time": null,
     "status": "pending"
    },
    "tags": []
   },
   "source": [
    "### GENERACION DE INSIGHTS"
   ]
  },
  {
   "cell_type": "markdown",
   "id": "b30eead1",
   "metadata": {
    "papermill": {
     "duration": null,
     "end_time": null,
     "exception": null,
     "start_time": null,
     "status": "pending"
    },
    "tags": []
   },
   "source": [
    "Cuantification del problema: Cual es la tasa de abandono?"
   ]
  },
  {
   "cell_type": "code",
   "execution_count": null,
   "id": "8a656712",
   "metadata": {
    "execution": {
     "iopub.status.busy": "2023-10-05T21:45:43.550500Z",
     "iopub.status.idle": "2023-10-05T21:45:43.550858Z",
     "shell.execute_reply": "2023-10-05T21:45:43.550712Z",
     "shell.execute_reply.started": "2023-10-05T21:45:43.550696Z"
    },
    "papermill": {
     "duration": null,
     "end_time": null,
     "exception": null,
     "start_time": null,
     "status": "pending"
    },
    "tags": []
   },
   "outputs": [],
   "source": [
    "df.abandono.value_counts(normalize = True)* 100"
   ]
  },
  {
   "cell_type": "markdown",
   "id": "4149b76a",
   "metadata": {
    "papermill": {
     "duration": null,
     "end_time": null,
     "exception": null,
     "start_time": null,
     "status": "pending"
    },
    "tags": []
   },
   "source": [
    "Hay un perfil tipo de empleado que deja la empresa?"
   ]
  },
  {
   "cell_type": "code",
   "execution_count": null,
   "id": "c99e3248",
   "metadata": {
    "execution": {
     "iopub.status.busy": "2023-10-05T21:45:43.554396Z",
     "iopub.status.idle": "2023-10-05T21:45:43.555019Z",
     "shell.execute_reply": "2023-10-05T21:45:43.554764Z",
     "shell.execute_reply.started": "2023-10-05T21:45:43.554737Z"
    },
    "papermill": {
     "duration": null,
     "end_time": null,
     "exception": null,
     "start_time": null,
     "status": "pending"
    },
    "tags": []
   },
   "outputs": [],
   "source": [
    "#Transformar abondono a numerico\n",
    "df['abandono'] = df['abandono'].replace({'No': 0, 'Yes': 1})\n",
    "\n",
    "# Imprimir el DataFrame\n",
    "df"
   ]
  },
  {
   "cell_type": "code",
   "execution_count": null,
   "id": "964f6017",
   "metadata": {
    "execution": {
     "iopub.status.busy": "2023-10-05T21:45:43.556838Z",
     "iopub.status.idle": "2023-10-05T21:45:43.557436Z",
     "shell.execute_reply": "2023-10-05T21:45:43.557170Z",
     "shell.execute_reply.started": "2023-10-05T21:45:43.557143Z"
    },
    "papermill": {
     "duration": null,
     "end_time": null,
     "exception": null,
     "start_time": null,
     "status": "pending"
    },
    "scrolled": true,
    "tags": []
   },
   "outputs": [],
   "source": [
    "#Analisis por educacion\n",
    "temp = df.groupby('educacion').abandono.mean().sort_values(ascending = False)*1000\n",
    "temp.plot.bar();"
   ]
  },
  {
   "cell_type": "code",
   "execution_count": null,
   "id": "df0007ec",
   "metadata": {
    "execution": {
     "iopub.status.busy": "2023-10-05T21:45:43.559325Z",
     "iopub.status.idle": "2023-10-05T21:45:43.559878Z",
     "shell.execute_reply": "2023-10-05T21:45:43.559640Z",
     "shell.execute_reply.started": "2023-10-05T21:45:43.559614Z"
    },
    "papermill": {
     "duration": null,
     "end_time": null,
     "exception": null,
     "start_time": null,
     "status": "pending"
    },
    "tags": []
   },
   "outputs": [],
   "source": [
    "# Analisis por esta do civil"
   ]
  },
  {
   "cell_type": "code",
   "execution_count": null,
   "id": "f1bd5c4f",
   "metadata": {
    "execution": {
     "iopub.status.busy": "2023-10-05T21:45:43.561940Z",
     "iopub.status.idle": "2023-10-05T21:45:43.562521Z",
     "shell.execute_reply": "2023-10-05T21:45:43.562264Z",
     "shell.execute_reply.started": "2023-10-05T21:45:43.562240Z"
    },
    "papermill": {
     "duration": null,
     "end_time": null,
     "exception": null,
     "start_time": null,
     "status": "pending"
    },
    "tags": []
   },
   "outputs": [],
   "source": [
    "temp = df.groupby('estado_civil').abandono.mean().sort_values(ascending = False)*1000\n",
    "temp.plot.bar();"
   ]
  },
  {
   "cell_type": "code",
   "execution_count": null,
   "id": "3423d1fc",
   "metadata": {
    "execution": {
     "iopub.status.busy": "2023-10-05T21:45:43.564367Z",
     "iopub.status.idle": "2023-10-05T21:45:43.564897Z",
     "shell.execute_reply": "2023-10-05T21:45:43.564665Z",
     "shell.execute_reply.started": "2023-10-05T21:45:43.564640Z"
    },
    "papermill": {
     "duration": null,
     "end_time": null,
     "exception": null,
     "start_time": null,
     "status": "pending"
    },
    "tags": []
   },
   "outputs": [],
   "source": [
    "temp = df.groupby('puesto').abandono.mean().sort_values(ascending = False)*1000\n",
    "temp.plot.bar();"
   ]
  },
  {
   "cell_type": "code",
   "execution_count": null,
   "id": "a2b325bc",
   "metadata": {
    "execution": {
     "iopub.status.busy": "2023-10-05T21:45:43.567503Z",
     "iopub.status.idle": "2023-10-05T21:45:43.567961Z",
     "shell.execute_reply": "2023-10-05T21:45:43.567799Z",
     "shell.execute_reply.started": "2023-10-05T21:45:43.567781Z"
    },
    "papermill": {
     "duration": null,
     "end_time": null,
     "exception": null,
     "start_time": null,
     "status": "pending"
    },
    "tags": []
   },
   "outputs": [],
   "source": [
    "temp = df.groupby('abandono').salario_mes.mean()\n",
    "temp.plot.bar();"
   ]
  },
  {
   "cell_type": "markdown",
   "id": "f998c1f5",
   "metadata": {
    "papermill": {
     "duration": null,
     "end_time": null,
     "exception": null,
     "start_time": null,
     "status": "pending"
    },
    "tags": []
   },
   "source": [
    "### Cloncusiones\n",
    "El perfil medio del empleado que deja la empresa es:\n",
    " * bajo nivel de estudios\n",
    " * soltero\n",
    " * trabaja en ventas\n",
    " * Bajo salario\n",
    "* alta carga de horas extras\n",
    "    "
   ]
  },
  {
   "cell_type": "markdown",
   "id": "0fd01906",
   "metadata": {
    "papermill": {
     "duration": null,
     "end_time": null,
     "exception": null,
     "start_time": null,
     "status": "pending"
    },
    "tags": []
   },
   "source": [
    "Cual es el impacto economico de este proble,ma?\n",
    "\n",
    "Segun el estudio \"Cot of turnover\"\n",
    "\n",
    "el costo de la fuga de los empleados que ganan menos de 30000 es del 16.1% de su salario.\n",
    "el costo de la fuga de los empleados que ganan entre  30000 y 50000 es del 19.7% de su salario.\n",
    "el costo de la fuga de los empleados que ganan entre  50000 y 75000 es del 20.4% de su salario.\n",
    "el costo de la fuga de los empleados que ganan mas de 75000 es del 21% de su salario."
   ]
  },
  {
   "cell_type": "code",
   "execution_count": null,
   "id": "f417294f",
   "metadata": {
    "execution": {
     "iopub.status.busy": "2023-10-05T21:45:43.569932Z",
     "iopub.status.idle": "2023-10-05T21:45:43.570382Z",
     "shell.execute_reply": "2023-10-05T21:45:43.570167Z",
     "shell.execute_reply.started": "2023-10-05T21:45:43.570149Z"
    },
    "papermill": {
     "duration": null,
     "end_time": null,
     "exception": null,
     "start_time": null,
     "status": "pending"
    },
    "tags": []
   },
   "outputs": [],
   "source": [
    "#Creamos una nueva variable salario_ano del empleado\n",
    "df['salario_ano'] =df.salario_mes.transform(lambda x: x*12)\n",
    "df[['salario_mes','salario_ano']]"
   ]
  },
  {
   "cell_type": "code",
   "execution_count": null,
   "id": "d02804a6",
   "metadata": {
    "execution": {
     "iopub.status.busy": "2023-10-05T21:45:43.571844Z",
     "iopub.status.idle": "2023-10-05T21:45:43.572514Z",
     "shell.execute_reply": "2023-10-05T21:45:43.572336Z",
     "shell.execute_reply.started": "2023-10-05T21:45:43.572317Z"
    },
    "papermill": {
     "duration": null,
     "end_time": null,
     "exception": null,
     "start_time": null,
     "status": "pending"
    },
    "tags": []
   },
   "outputs": [],
   "source": [
    "# Calcular el impacto económico\n",
    "condiciones = [(df['salario_ano'] <= 30000),\n",
    "               (df['salario_ano'] > 30000) & (df['salario_ano']<= 50000),\n",
    "               (df['salario_ano'] > 50000) & (df['salario_ano']<= 75000),\n",
    "               (df['salario_ano'] > 75000)]\n",
    "\n",
    "resultados = [df.salario_ano *0.161, df.salario_ano * 0.197, df.salario_ano * 0.204, df.salario_ano * 0.21]\n",
    "\n",
    "df['impacto_abandono'] = np.select(condiciones,resultados,default= -999)\n",
    "\n",
    "# Imprimir el DataFrame\n",
    "df\n"
   ]
  },
  {
   "cell_type": "markdown",
   "id": "9e06e08c",
   "metadata": {
    "papermill": {
     "duration": null,
     "end_time": null,
     "exception": null,
     "start_time": null,
     "status": "pending"
    },
    "tags": []
   },
   "source": [
    "Cuanto nos ha costado este problema el ultimo ano?"
   ]
  },
  {
   "cell_type": "code",
   "execution_count": null,
   "id": "b3f485f0",
   "metadata": {
    "execution": {
     "iopub.status.busy": "2023-10-05T21:45:43.573550Z",
     "iopub.status.idle": "2023-10-05T21:45:43.573886Z",
     "shell.execute_reply": "2023-10-05T21:45:43.573749Z",
     "shell.execute_reply.started": "2023-10-05T21:45:43.573734Z"
    },
    "papermill": {
     "duration": null,
     "end_time": null,
     "exception": null,
     "start_time": null,
     "status": "pending"
    },
    "tags": []
   },
   "outputs": [],
   "source": [
    "coste_total = df.loc[df.abandono == 1].impacto_abandono.sum()\n",
    "coste_total"
   ]
  },
  {
   "cell_type": "markdown",
   "id": "12aef0c6",
   "metadata": {
    "papermill": {
     "duration": null,
     "end_time": null,
     "exception": null,
     "start_time": null,
     "status": "pending"
    },
    "tags": []
   },
   "source": [
    "Cuanto nos custa que los empleados no esten motivados? perdidas en implicacion == baja"
   ]
  },
  {
   "cell_type": "code",
   "execution_count": null,
   "id": "7b962045",
   "metadata": {
    "execution": {
     "iopub.status.busy": "2023-10-05T21:45:43.575066Z",
     "iopub.status.idle": "2023-10-05T21:45:43.575447Z",
     "shell.execute_reply": "2023-10-05T21:45:43.575299Z",
     "shell.execute_reply.started": "2023-10-05T21:45:43.575282Z"
    },
    "papermill": {
     "duration": null,
     "end_time": null,
     "exception": null,
     "start_time": null,
     "status": "pending"
    },
    "tags": []
   },
   "outputs": [],
   "source": [
    "df.loc[(df.abandono == 1)& (df.implicacion == 'Baja')].impacto_abandono.sum()"
   ]
  },
  {
   "cell_type": "markdown",
   "id": "8bc18308",
   "metadata": {
    "papermill": {
     "duration": null,
     "end_time": null,
     "exception": null,
     "start_time": null,
     "status": "pending"
    },
    "tags": []
   },
   "source": [
    "Cuanto dinero podriamos ahorrar fidellizando mejor a nuestro empleados?"
   ]
  },
  {
   "cell_type": "code",
   "execution_count": null,
   "id": "bd2674e6",
   "metadata": {
    "execution": {
     "iopub.status.busy": "2023-10-05T21:45:43.576564Z",
     "iopub.status.idle": "2023-10-05T21:45:43.577275Z",
     "shell.execute_reply": "2023-10-05T21:45:43.577029Z",
     "shell.execute_reply.started": "2023-10-05T21:45:43.577005Z"
    },
    "papermill": {
     "duration": null,
     "end_time": null,
     "exception": null,
     "start_time": null,
     "status": "pending"
    },
    "tags": []
   },
   "outputs": [],
   "source": [
    "print(f\"Reducir un 10% la fuga de empleados nos ahorraria {int(coste_total *  0.1)} $ cada ano\")\n",
    "print(f\"Reducir un 20% la fuga de empleados nos ahorraria {int(coste_total *  0.2)} $ cada ano\")\n",
    "print(f\"Reducir un 20% la fuga de empleados nos ahorraria {int(coste_total *  0.2)} $ cada ano\")"
   ]
  },
  {
   "cell_type": "markdown",
   "id": "dd4fdd82",
   "metadata": {
    "papermill": {
     "duration": null,
     "end_time": null,
     "exception": null,
     "start_time": null,
     "status": "pending"
    },
    "tags": []
   },
   "source": [
    "#### Y podemos seguir tranzando estrategias asociadas a los insights de abondono:\n",
    "\n",
    "Habiamos visto que los reprensantes de ventas son el puesto que mas se va. Tendria sentido hacer un plan especifico para ellos? Cual seria el coste ahorrado si disminuimos la fuga un 30%?\n",
    "Primero vamos a calcular el % de reprensentantes de ventas que se ahan ido el ano pasado."
   ]
  },
  {
   "cell_type": "code",
   "execution_count": null,
   "id": "36439c0f",
   "metadata": {
    "execution": {
     "iopub.status.busy": "2023-10-05T21:45:43.579270Z",
     "iopub.status.idle": "2023-10-05T21:45:43.579637Z",
     "shell.execute_reply": "2023-10-05T21:45:43.579491Z",
     "shell.execute_reply.started": "2023-10-05T21:45:43.579475Z"
    },
    "papermill": {
     "duration": null,
     "end_time": null,
     "exception": null,
     "start_time": null,
     "status": "pending"
    },
    "tags": []
   },
   "outputs": [],
   "source": [
    "total_repre_pasado = len(df.loc[df.puesto == 'Sales Representative'])\n",
    "abandonos_repre_pasado = len(df.loc[(df.puesto == 'Sales Representative') & (df.abandono == 1)])\n",
    "porc_pasado = abandonos_repre_pasado / total_repre_pasado\n",
    "\n",
    "porc_pasado"
   ]
  },
  {
   "cell_type": "markdown",
   "id": "f629f071",
   "metadata": {
    "papermill": {
     "duration": null,
     "end_time": null,
     "exception": null,
     "start_time": null,
     "status": "pending"
    },
    "tags": []
   },
   "source": [
    "Ahora vamos a cuantificar cuantos se nos iran este ano"
   ]
  },
  {
   "cell_type": "code",
   "execution_count": null,
   "id": "ec52bc76",
   "metadata": {
    "execution": {
     "iopub.status.busy": "2023-10-05T21:45:43.580936Z",
     "iopub.status.idle": "2023-10-05T21:45:43.581357Z",
     "shell.execute_reply": "2023-10-05T21:45:43.581146Z",
     "shell.execute_reply.started": "2023-10-05T21:45:43.581130Z"
    },
    "papermill": {
     "duration": null,
     "end_time": null,
     "exception": null,
     "start_time": null,
     "status": "pending"
    },
    "tags": []
   },
   "outputs": [],
   "source": [
    "total_repre_actual = len(df.loc[(df.puesto == 'Sales Representative') & (df.abandono == 0)])\n",
    "se_iran = int(total_repre_actual * porc_pasado)\n",
    "se_iran"
   ]
  },
  {
   "cell_type": "markdown",
   "id": "c27e35fb",
   "metadata": {
    "papermill": {
     "duration": null,
     "end_time": null,
     "exception": null,
     "start_time": null,
     "status": "pending"
    },
    "tags": []
   },
   "source": [
    "Sobre ellos cuantos podemos retener (hipotesis 30%) y cuanto dinero puee suponer"
   ]
  },
  {
   "cell_type": "code",
   "execution_count": null,
   "id": "fc102992",
   "metadata": {
    "execution": {
     "iopub.status.busy": "2023-10-05T21:45:43.582894Z",
     "iopub.status.idle": "2023-10-05T21:45:43.583294Z",
     "shell.execute_reply": "2023-10-05T21:45:43.583102Z",
     "shell.execute_reply.started": "2023-10-05T21:45:43.583086Z"
    },
    "papermill": {
     "duration": null,
     "end_time": null,
     "exception": null,
     "start_time": null,
     "status": "pending"
    },
    "tags": []
   },
   "outputs": [],
   "source": [
    "retenemos = int(se_iran * 0.3)\n",
    "ahorramos = df.loc[(df.puesto == 'Sales Representative') & (df.abandono == 0), 'impacto_abandono'].sum()*porc_pasado*0.3\n",
    "print(f'Podemos retener {retenemos} representantes de ventas y ello supondria ahorrar {ahorramos}')"
   ]
  },
  {
   "cell_type": "markdown",
   "id": "ac11e53e",
   "metadata": {
    "papermill": {
     "duration": null,
     "end_time": null,
     "exception": null,
     "start_time": null,
     "status": "pending"
    },
    "tags": []
   },
   "source": [
    "Este dato tambien es muy interesante porque nos permite determinar el presupuesto para acciones de retencion por departamento o perfil.\n",
    "Ya que sabemos que podemos gastarnos hasta 37.000$ solo en acciones especificas para retener a representantes de ventas y se estarian solo pagando con la perdida evitada."
   ]
  },
  {
   "cell_type": "markdown",
   "id": "af606655",
   "metadata": {
    "papermill": {
     "duration": null,
     "end_time": null,
     "exception": null,
     "start_time": null,
     "status": "pending"
    },
    "tags": []
   },
   "source": [
    "## DIA 3 : MODELO DE MACHINE LEARNING"
   ]
  },
  {
   "cell_type": "code",
   "execution_count": null,
   "id": "c45568bb",
   "metadata": {
    "execution": {
     "iopub.status.busy": "2023-10-05T21:45:43.584883Z",
     "iopub.status.idle": "2023-10-05T21:45:43.585245Z",
     "shell.execute_reply": "2023-10-05T21:45:43.585059Z",
     "shell.execute_reply.started": "2023-10-05T21:45:43.585045Z"
    },
    "papermill": {
     "duration": null,
     "end_time": null,
     "exception": null,
     "start_time": null,
     "status": "pending"
    },
    "tags": []
   },
   "outputs": [],
   "source": [
    "df_ml= df.copy()\n",
    " \n",
    "df_ml.info()"
   ]
  },
  {
   "cell_type": "markdown",
   "id": "778b413b",
   "metadata": {
    "papermill": {
     "duration": null,
     "end_time": null,
     "exception": null,
     "start_time": null,
     "status": "pending"
    },
    "tags": []
   },
   "source": [
    "### PREPARACION DE LOS DATOS PARA LA MODELIZAION"
   ]
  },
  {
   "cell_type": "markdown",
   "id": "bb2add35",
   "metadata": {
    "papermill": {
     "duration": null,
     "end_time": null,
     "exception": null,
     "start_time": null,
     "status": "pending"
    },
    "tags": []
   },
   "source": [
    "#### Transformar todas las variables categoricas a numericas"
   ]
  },
  {
   "cell_type": "code",
   "execution_count": null,
   "id": "851a4476",
   "metadata": {
    "execution": {
     "iopub.status.busy": "2023-10-05T21:45:43.586261Z",
     "iopub.status.idle": "2023-10-05T21:45:43.586605Z",
     "shell.execute_reply": "2023-10-05T21:45:43.586460Z",
     "shell.execute_reply.started": "2023-10-05T21:45:43.586444Z"
    },
    "papermill": {
     "duration": null,
     "end_time": null,
     "exception": null,
     "start_time": null,
     "status": "pending"
    },
    "tags": []
   },
   "outputs": [],
   "source": [
    "from sklearn.preprocessing import OneHotEncoder\n",
    "\n",
    "#Categoricas\n",
    "cat = df_ml.select_dtypes('O')\n",
    "\n",
    "#Instalaciones\n",
    "\n",
    "ohe = OneHotEncoder(sparse = False)\n",
    "\n",
    "#Entrenamos\n",
    "ohe.fit(cat)\n",
    "\n",
    "#Aplicamos \n",
    "cat_ohe = ohe.transform(cat)\n",
    "\n",
    "#ponemos los nombres\n",
    "cat_ohe = pd.DataFrame(cat_ohe, columns = ohe.get_feature_names_out(input_features = cat.columns)).reset_index(drop = True)"
   ]
  },
  {
   "cell_type": "code",
   "execution_count": null,
   "id": "202da2b1",
   "metadata": {
    "execution": {
     "iopub.status.busy": "2023-10-05T21:45:43.588006Z",
     "iopub.status.idle": "2023-10-05T21:45:43.588435Z",
     "shell.execute_reply": "2023-10-05T21:45:43.588265Z",
     "shell.execute_reply.started": "2023-10-05T21:45:43.588231Z"
    },
    "papermill": {
     "duration": null,
     "end_time": null,
     "exception": null,
     "start_time": null,
     "status": "pending"
    },
    "tags": []
   },
   "outputs": [],
   "source": [
    "cat_ohe"
   ]
  },
  {
   "cell_type": "markdown",
   "id": "98863adf",
   "metadata": {
    "papermill": {
     "duration": null,
     "end_time": null,
     "exception": null,
     "start_time": null,
     "status": "pending"
    },
    "tags": []
   },
   "source": [
    "#### Data Frame Final\n"
   ]
  },
  {
   "cell_type": "markdown",
   "id": "93fb1693",
   "metadata": {
    "papermill": {
     "duration": null,
     "end_time": null,
     "exception": null,
     "start_time": null,
     "status": "pending"
    },
    "tags": []
   },
   "source": [
    "Seleccionamos las variables numericas para poder juntarlas a las cat_hoe"
   ]
  },
  {
   "cell_type": "code",
   "execution_count": null,
   "id": "b24e6336",
   "metadata": {
    "execution": {
     "iopub.status.busy": "2023-10-05T21:45:43.589554Z",
     "iopub.status.idle": "2023-10-05T21:45:43.589906Z",
     "shell.execute_reply": "2023-10-05T21:45:43.589759Z",
     "shell.execute_reply.started": "2023-10-05T21:45:43.589743Z"
    },
    "papermill": {
     "duration": null,
     "end_time": null,
     "exception": null,
     "start_time": null,
     "status": "pending"
    },
    "tags": []
   },
   "outputs": [],
   "source": [
    "num = df.select_dtypes('number').reset_index(drop= True)\n"
   ]
  },
  {
   "cell_type": "markdown",
   "id": "09894c14",
   "metadata": {
    "papermill": {
     "duration": null,
     "end_time": null,
     "exception": null,
     "start_time": null,
     "status": "pending"
    },
    "tags": []
   },
   "source": [
    "Las juntamos todas en el dataframe final"
   ]
  },
  {
   "cell_type": "code",
   "execution_count": null,
   "id": "a4751141",
   "metadata": {
    "execution": {
     "iopub.status.busy": "2023-10-05T21:45:43.592743Z",
     "iopub.status.idle": "2023-10-05T21:45:43.593116Z",
     "shell.execute_reply": "2023-10-05T21:45:43.592963Z",
     "shell.execute_reply.started": "2023-10-05T21:45:43.592947Z"
    },
    "papermill": {
     "duration": null,
     "end_time": null,
     "exception": null,
     "start_time": null,
     "status": "pending"
    },
    "tags": []
   },
   "outputs": [],
   "source": [
    "df_ml = pd.concat([cat_ohe, num], axis= 1)\n",
    "df_ml"
   ]
  },
  {
   "cell_type": "markdown",
   "id": "15a398c0",
   "metadata": {
    "papermill": {
     "duration": null,
     "end_time": null,
     "exception": null,
     "start_time": null,
     "status": "pending"
    },
    "tags": []
   },
   "source": [
    "### Diseno de la modelizacion"
   ]
  },
  {
   "cell_type": "markdown",
   "id": "d714eac6",
   "metadata": {
    "papermill": {
     "duration": null,
     "end_time": null,
     "exception": null,
     "start_time": null,
     "status": "pending"
    },
    "tags": []
   },
   "source": [
    "#### Separacion predictores y targets\n"
   ]
  },
  {
   "cell_type": "code",
   "execution_count": null,
   "id": "8e145ef0",
   "metadata": {
    "execution": {
     "iopub.status.busy": "2023-10-05T21:45:43.596519Z",
     "iopub.status.idle": "2023-10-05T21:45:43.596940Z",
     "shell.execute_reply": "2023-10-05T21:45:43.596779Z",
     "shell.execute_reply.started": "2023-10-05T21:45:43.596761Z"
    },
    "papermill": {
     "duration": null,
     "end_time": null,
     "exception": null,
     "start_time": null,
     "status": "pending"
    },
    "tags": []
   },
   "outputs": [],
   "source": [
    "x = df_ml.drop(columns= 'abandono')\n",
    "y = df_ml['abandono']"
   ]
  },
  {
   "cell_type": "markdown",
   "id": "8b539afd",
   "metadata": {
    "papermill": {
     "duration": null,
     "end_time": null,
     "exception": null,
     "start_time": null,
     "status": "pending"
    },
    "tags": []
   },
   "source": [
    "#### Separacion train y test"
   ]
  },
  {
   "cell_type": "code",
   "execution_count": null,
   "id": "d21c62d5",
   "metadata": {
    "execution": {
     "iopub.status.busy": "2023-10-05T21:45:43.598069Z",
     "iopub.status.idle": "2023-10-05T21:45:43.598458Z",
     "shell.execute_reply": "2023-10-05T21:45:43.598307Z",
     "shell.execute_reply.started": "2023-10-05T21:45:43.598290Z"
    },
    "papermill": {
     "duration": null,
     "end_time": null,
     "exception": null,
     "start_time": null,
     "status": "pending"
    },
    "tags": []
   },
   "outputs": [],
   "source": [
    "from sklearn.model_selection import train_test_split\n",
    "train_x, test_x, train_y, test_y = train_test_split(x,y,test_size= 0.3)"
   ]
  },
  {
   "cell_type": "markdown",
   "id": "1a77d9d4",
   "metadata": {
    "papermill": {
     "duration": null,
     "end_time": null,
     "exception": null,
     "start_time": null,
     "status": "pending"
    },
    "tags": []
   },
   "source": [
    "### Entreamiento del modelo sobre train "
   ]
  },
  {
   "cell_type": "code",
   "execution_count": null,
   "id": "b233711f",
   "metadata": {
    "execution": {
     "iopub.status.busy": "2023-10-05T21:45:43.599884Z",
     "iopub.status.idle": "2023-10-05T21:45:43.600282Z",
     "shell.execute_reply": "2023-10-05T21:45:43.600089Z",
     "shell.execute_reply.started": "2023-10-05T21:45:43.600073Z"
    },
    "papermill": {
     "duration": null,
     "end_time": null,
     "exception": null,
     "start_time": null,
     "status": "pending"
    },
    "tags": []
   },
   "outputs": [],
   "source": [
    "from sklearn.tree import DecisionTreeClassifier\n",
    "#Instanciar\n",
    "ac = DecisionTreeClassifier(max_depth= 4)\n",
    "#Entrenar\n",
    "ac.fit(train_x,train_y)"
   ]
  },
  {
   "cell_type": "markdown",
   "id": "953b27d7",
   "metadata": {
    "papermill": {
     "duration": null,
     "end_time": null,
     "exception": null,
     "start_time": null,
     "status": "pending"
    },
    "tags": []
   },
   "source": [
    "### Prediccion y validacion sobre test"
   ]
  },
  {
   "cell_type": "code",
   "execution_count": null,
   "id": "1eaf94e8",
   "metadata": {
    "execution": {
     "iopub.status.busy": "2023-10-05T21:45:43.601770Z",
     "iopub.status.idle": "2023-10-05T21:45:43.602345Z",
     "shell.execute_reply": "2023-10-05T21:45:43.601968Z",
     "shell.execute_reply.started": "2023-10-05T21:45:43.601952Z"
    },
    "papermill": {
     "duration": null,
     "end_time": null,
     "exception": null,
     "start_time": null,
     "status": "pending"
    },
    "tags": []
   },
   "outputs": [],
   "source": [
    "#Prediccion\n",
    "pred = ac.predict_proba(test_x)[:,1]\n",
    "pred[:20]"
   ]
  },
  {
   "cell_type": "code",
   "execution_count": null,
   "id": "0f20c935",
   "metadata": {
    "execution": {
     "iopub.status.busy": "2023-10-05T21:45:43.604213Z",
     "iopub.status.idle": "2023-10-05T21:45:43.604576Z",
     "shell.execute_reply": "2023-10-05T21:45:43.604429Z",
     "shell.execute_reply.started": "2023-10-05T21:45:43.604412Z"
    },
    "papermill": {
     "duration": null,
     "end_time": null,
     "exception": null,
     "start_time": null,
     "status": "pending"
    },
    "tags": []
   },
   "outputs": [],
   "source": [
    "#Evaluacion\n",
    "from sklearn.metrics import roc_auc_score\n",
    "\n",
    "roc_auc_score(test_y,pred)"
   ]
  },
  {
   "cell_type": "markdown",
   "id": "c323fd0e",
   "metadata": {
    "papermill": {
     "duration": null,
     "end_time": null,
     "exception": null,
     "start_time": null,
     "status": "pending"
    },
    "tags": []
   },
   "source": [
    "### Interpreatacion"
   ]
  },
  {
   "cell_type": "markdown",
   "id": "ac407d23",
   "metadata": {
    "papermill": {
     "duration": null,
     "end_time": null,
     "exception": null,
     "start_time": null,
     "status": "pending"
    },
    "tags": []
   },
   "source": [
    "#### Diagrama de arbol"
   ]
  },
  {
   "cell_type": "code",
   "execution_count": null,
   "id": "6a101f51",
   "metadata": {
    "execution": {
     "iopub.status.busy": "2023-10-05T21:45:43.605831Z",
     "iopub.status.idle": "2023-10-05T21:45:43.606210Z",
     "shell.execute_reply": "2023-10-05T21:45:43.606030Z",
     "shell.execute_reply.started": "2023-10-05T21:45:43.606014Z"
    },
    "papermill": {
     "duration": null,
     "end_time": null,
     "exception": null,
     "start_time": null,
     "status": "pending"
    },
    "tags": []
   },
   "outputs": [],
   "source": [
    "from sklearn.tree import plot_tree\n",
    "\n",
    "plt.figure(figsize= (50,50))\n",
    "\n",
    "plot_tree(ac,\n",
    "          feature_names=test_x.columns,\n",
    "          impurity= False,\n",
    "          node_ids= True,\n",
    "          proportion= True,\n",
    "          rounded= True,\n",
    "          precision= 2);"
   ]
  },
  {
   "cell_type": "code",
   "execution_count": null,
   "id": "038ae413",
   "metadata": {
    "execution": {
     "iopub.status.busy": "2023-10-05T21:45:43.607423Z",
     "iopub.status.idle": "2023-10-05T21:45:43.607742Z",
     "shell.execute_reply": "2023-10-05T21:45:43.607599Z",
     "shell.execute_reply.started": "2023-10-05T21:45:43.607584Z"
    },
    "papermill": {
     "duration": null,
     "end_time": null,
     "exception": null,
     "start_time": null,
     "status": "pending"
    },
    "tags": []
   },
   "outputs": [],
   "source": [
    "pd.Series(ac.feature_importances_, index = test_x.columns).sort_values(ascending= False).plot(kind= 'bar',figsize= (30,20));"
   ]
  },
  {
   "cell_type": "markdown",
   "id": "7d1723a4",
   "metadata": {
    "papermill": {
     "duration": null,
     "end_time": null,
     "exception": null,
     "start_time": null,
     "status": "pending"
    },
    "tags": []
   },
   "source": [
    "###  Explotacion"
   ]
  },
  {
   "cell_type": "markdown",
   "id": "1192b120",
   "metadata": {
    "papermill": {
     "duration": null,
     "end_time": null,
     "exception": null,
     "start_time": null,
     "status": "pending"
    },
    "tags": []
   },
   "source": [
    "Incorporacion del scoring al dataframe principal."
   ]
  },
  {
   "cell_type": "code",
   "execution_count": null,
   "id": "64cf9b54",
   "metadata": {
    "execution": {
     "iopub.status.busy": "2023-10-05T21:45:43.609228Z",
     "iopub.status.idle": "2023-10-05T21:45:43.609554Z",
     "shell.execute_reply": "2023-10-05T21:45:43.609414Z",
     "shell.execute_reply.started": "2023-10-05T21:45:43.609400Z"
    },
    "papermill": {
     "duration": null,
     "end_time": null,
     "exception": null,
     "start_time": null,
     "status": "pending"
    },
    "tags": []
   },
   "outputs": [],
   "source": [
    "df['scoring_abandono'] = ac.predict_proba(df_ml.drop(columns = 'abandono'))[:,1]\n",
    "df"
   ]
  },
  {
   "cell_type": "markdown",
   "id": "a36e1e7b",
   "metadata": {
    "papermill": {
     "duration": null,
     "end_time": null,
     "exception": null,
     "start_time": null,
     "status": "pending"
    },
    "tags": []
   },
   "source": [
    "Ejemplo de los 10 empleados con mayor probabilidad de dejar la empresa."
   ]
  },
  {
   "cell_type": "code",
   "execution_count": null,
   "id": "87fa1121",
   "metadata": {
    "execution": {
     "iopub.status.busy": "2023-10-05T21:45:43.611384Z",
     "iopub.status.idle": "2023-10-05T21:45:43.611706Z",
     "shell.execute_reply": "2023-10-05T21:45:43.611565Z",
     "shell.execute_reply.started": "2023-10-05T21:45:43.611551Z"
    },
    "papermill": {
     "duration": null,
     "end_time": null,
     "exception": null,
     "start_time": null,
     "status": "pending"
    },
    "tags": []
   },
   "outputs": [],
   "source": [
    "df.sort_values(by= 'scoring_abandono', ascending= False)[0:10]"
   ]
  },
  {
   "cell_type": "code",
   "execution_count": null,
   "id": "36f68812",
   "metadata": {
    "execution": {
     "iopub.status.busy": "2023-10-05T21:45:43.613004Z",
     "iopub.status.idle": "2023-10-05T21:45:43.613724Z",
     "shell.execute_reply": "2023-10-05T21:45:43.613563Z",
     "shell.execute_reply.started": "2023-10-05T21:45:43.613545Z"
    },
    "papermill": {
     "duration": null,
     "end_time": null,
     "exception": null,
     "start_time": null,
     "status": "pending"
    },
    "tags": []
   },
   "outputs": [],
   "source": [
    "df.boxplot(column= 'scoring_abandono', by ='puesto',figsize = (20,12))"
   ]
  },
  {
   "cell_type": "markdown",
   "id": "c4bf80ca",
   "metadata": {
    "papermill": {
     "duration": null,
     "end_time": null,
     "exception": null,
     "start_time": null,
     "status": "pending"
    },
    "tags": []
   },
   "source": [
    "### Guardar el resultado"
   ]
  },
  {
   "cell_type": "code",
   "execution_count": null,
   "id": "85d0b1cd",
   "metadata": {
    "execution": {
     "iopub.status.busy": "2023-10-05T21:45:43.615435Z",
     "iopub.status.idle": "2023-10-05T21:45:43.616402Z",
     "shell.execute_reply": "2023-10-05T21:45:43.616225Z",
     "shell.execute_reply.started": "2023-10-05T21:45:43.616199Z"
    },
    "papermill": {
     "duration": null,
     "end_time": null,
     "exception": null,
     "start_time": null,
     "status": "pending"
    },
    "tags": []
   },
   "outputs": [],
   "source": [
    "df"
   ]
  },
  {
   "cell_type": "code",
   "execution_count": null,
   "id": "6b96c2e7",
   "metadata": {
    "execution": {
     "iopub.status.busy": "2023-10-05T21:45:43.617717Z",
     "iopub.status.idle": "2023-10-05T21:45:43.618060Z",
     "shell.execute_reply": "2023-10-05T21:45:43.617914Z",
     "shell.execute_reply.started": "2023-10-05T21:45:43.617899Z"
    },
    "papermill": {
     "duration": null,
     "end_time": null,
     "exception": null,
     "start_time": null,
     "status": "pending"
    },
    "tags": []
   },
   "outputs": [],
   "source": [
    "# Save the DataFrame to an XLSX file\n",
    "df.to_excel('Employee turnover costs calculation.xlsx')\n",
    "import openpyxl\n"
   ]
  },
  {
   "cell_type": "code",
   "execution_count": null,
   "id": "134dfb14",
   "metadata": {
    "papermill": {
     "duration": null,
     "end_time": null,
     "exception": null,
     "start_time": null,
     "status": "pending"
    },
    "tags": []
   },
   "outputs": [],
   "source": []
  }
 ],
 "metadata": {
  "kernelspec": {
   "display_name": "Python 3",
   "language": "python",
   "name": "python3"
  },
  "language_info": {
   "codemirror_mode": {
    "name": "ipython",
    "version": 3
   },
   "file_extension": ".py",
   "mimetype": "text/x-python",
   "name": "python",
   "nbconvert_exporter": "python",
   "pygments_lexer": "ipython3",
   "version": "3.11.2"
  },
  "papermill": {
   "default_parameters": {},
   "duration": 12.851803,
   "end_time": "2023-10-05T21:57:17.310292",
   "environment_variables": {},
   "exception": true,
   "input_path": "__notebook__.ipynb",
   "output_path": "__notebook__.ipynb",
   "parameters": {},
   "start_time": "2023-10-05T21:57:04.458489",
   "version": "2.4.0"
  }
 },
 "nbformat": 4,
 "nbformat_minor": 5
}
